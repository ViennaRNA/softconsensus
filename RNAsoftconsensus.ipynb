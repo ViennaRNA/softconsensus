{
 "cells": [
  {
   "cell_type": "markdown",
   "id": "7e473cfe",
   "metadata": {
    "toc": true
   },
   "source": [
    "<h1>Table of Contents<span class=\"tocSkip\"></span></h1>\n",
    "<div class=\"toc\"><ul class=\"toc-item\"><li><span><a href=\"#Consensus-structure-from-RNAalifold\" data-toc-modified-id=\"Consensus-structure-from-RNAalifold-1\"><span class=\"toc-item-num\">1&nbsp;&nbsp;</span>Consensus structure from RNAalifold</a></span><ul class=\"toc-item\"><li><span><a href=\"#Hard-constraints\" data-toc-modified-id=\"Hard-constraints-1.1\"><span class=\"toc-item-num\">1.1&nbsp;&nbsp;</span>Hard constraints</a></span></li><li><span><a href=\"#Soft-constraints-(pseudo-energies)-with-softconsensus\" data-toc-modified-id=\"Soft-constraints-(pseudo-energies)-with-softconsensus-1.2\"><span class=\"toc-item-num\">1.2&nbsp;&nbsp;</span>Soft constraints (pseudo-energies) with softconsensus</a></span></li><li><span><a href=\"#evaluate-predictions\" data-toc-modified-id=\"evaluate-predictions-1.3\"><span class=\"toc-item-num\">1.3&nbsp;&nbsp;</span>evaluate predictions</a></span></li></ul></li></ul></div>"
   ]
  },
  {
   "cell_type": "markdown",
   "id": "a44ca72a",
   "metadata": {},
   "source": [
    "In this notebook, we aim to show how to use [softconsensus](#Soft-constraints-(pseudo-energies)-with-softconsensus) to help predicting secondary structure with phylogenetic information and to explain the motivation behind it.\n",
    "We use 5S rRNA family (Rfam ID: [RF00001](https://rfam.org/family/RF00001)) as the running exaple.\n",
    "Several sequences are removed from the alignment such that any two sequences in the alignment have less than 80% similarity.\n",
    "The first sequence in the alignment is chosen to be the focal sequence, the one to predict."
   ]
  },
  {
   "cell_type": "code",
   "execution_count": 1,
   "id": "7b2be567",
   "metadata": {},
   "outputs": [],
   "source": [
    "import RNA\n",
    "import numpy as np\n",
    "from IPython.display import SVG, display, HTML\n",
    "\n",
    "# Import functions from RNAsoftconsensus\n",
    "from softconsensus import Alignment, read_alignment\n",
    "import MCC_stats as MCC"
   ]
  },
  {
   "cell_type": "code",
   "execution_count": 2,
   "id": "4c4efddf",
   "metadata": {},
   "outputs": [],
   "source": [
    "alignment_file = \"test/5S_rRNA_test_alignment.fa\"\n",
    "reference_file = \"test/test_reference.fa\""
   ]
  },
  {
   "cell_type": "code",
   "execution_count": 3,
   "id": "83887731",
   "metadata": {},
   "outputs": [],
   "source": [
    "alignment = [w for w in read_alignment(alignment_file, 'fasta')]\n",
    "sequences = [w.replace('-', '') for w in alignment]\n",
    "focal_seq = sequences[0]\n",
    "focal_seq_aligned = alignment[0]"
   ]
  },
  {
   "cell_type": "markdown",
   "id": "eca8baad",
   "metadata": {},
   "source": [
    "__Reference structure from RNAcentral__"
   ]
  },
  {
   "cell_type": "code",
   "execution_count": 4,
   "id": "ac1f2265",
   "metadata": {},
   "outputs": [
    {
     "name": "stdout",
     "output_type": "stream",
     "text": [
      "# Reference structure:\n",
      "UGCCUGGCGGCCGUAGCGCGGUGGUCCCACCUGACCCCAUGCCGAACUCAGAAGUGAAACGCCGUAGCGCCGAUGGUAGUGUGGGGUCUCCCCAUGCGAGAGUAGGGAACUGCCAGGCAU\n",
      "((((((((((.....((((((((....(((((((.............))))..)))...)))))).)).((.((....((((((((...))))))))....)).))...)))))))))).\n"
     ]
    },
    {
     "data": {
      "image/svg+xml": [
       "<svg xmlns=\"http://www.w3.org/2000/svg\" height=\"452\" width=\"452\">\n",
       "  <script type=\"text/ecmascript\">\n",
       "    <![CDATA[\n",
       "      var shown = 1;\n",
       "      function click() {\n",
       "        var seq = document.getElementById(\"seq\");\n",
       "        if (shown==1) {\n",
       "          seq.setAttribute(\"style\", \"visibility: hidden\");\n",
       "          shown = 0;\n",
       "        } else {\n",
       "          seq.setAttribute(\"style\", \"visibility: visible\");\n",
       "          shown = 1;\n",
       "        }\n",
       "      }\n",
       "    ]]>\n",
       "  </script>\n",
       "  <style type=\"text/css\">\n",
       "    <![CDATA[\n",
       "      .nucleotide {\n",
       "        font-family: SansSerif;\n",
       "      }\n",
       "      .backbone {\n",
       "        stroke: grey;\n",
       "        fill:   none;\n",
       "        stroke-width: 1.5;\n",
       "      }\n",
       "      .basepairs {\n",
       "        stroke: red;\n",
       "        fill:   none;\n",
       "        stroke-width: 2.5;\n",
       "      }\n",
       "    ]]>\n",
       "  </style>\n",
       "\n",
       "  <rect style=\"stroke: white; fill: white\" height=\"452\" x=\"0\" y=\"0\" width=\"452\" onclick=\"click(evt)\"/>\n",
       "  <g transform=\"scale(0.782560,0.782560) translate(201.669876,201.821198)\">\n",
       "    <polyline class=\"backbone\" id=\"outline\" points=\"       96.717,-88.515       96.327,-73.520       95.938,-58.525       95.548,-43.530       95.159,-28.535       94.770,-13.540       94.380,1.455       93.991,16.450       93.601,31.445       93.212,46.440       85.910,49.366       79.694,54.187       75.044,60.532       72.317,67.910       71.723,75.754       73.309,83.459       61.015,92.053       48.611,100.488       36.099,108.761       23.586,117.033       11.074,125.306       -1.438,133.579       -13.951,141.852       -26.531,136.053       -40.222,137.250       -51.427,145.020       -57.254,157.226       -56.266,170.607       -68.559,179.202       -80.853,187.797       -93.365,196.070       -106.088,204.015       -118.811,211.960       -131.534,219.905       -144.133,211.350       -159.124,208.667       -173.909,212.318       -185.926,221.673       -193.093,235.109       -194.170,250.300       -188.968,264.613       -178.390,275.569       -164.268,281.269       -149.049,280.725       -135.370,274.033       -125.600,262.351       -121.432,247.703       -123.589,232.628       -110.866,224.683       -98.143,216.738       -85.420,208.793       -80.538,209.012       -75.490,206.082       -72.258,200.090       -59.964,191.496       -47.671,182.901       -32.394,188.755       -16.467,184.348       -6.168,171.213       -5.678,154.364       6.834,146.091       19.347,137.819       31.859,129.546       44.372,121.273       56.884,113.000       64.288,111.923       69.610,104.347       81.904,95.752       106.561,101.514       125.978,85.261       140.826,87.396       153.384,97.019       167.083,91.171       181.931,93.306       187.710,107.467       199.723,116.773       214.681,118.802       228.554,113.110       237.654,101.318       252.501,103.453       267.349,105.587       282.196,107.722       297.043,109.857       311.891,111.992       326.738,114.126       341.585,116.261       356.403,124.500       368.422,112.542       360.258,97.683       343.720,101.414       328.873,99.279       314.025,97.144       299.178,95.009       284.331,92.875       269.483,90.740       254.636,88.605       239.789,86.471       234.380,72.592       222.673,63.222       207.748,60.956       193.601,66.500       184.065,78.459       169.218,76.324       157.721,66.854       142.960,72.549       128.113,70.414       125.952,62.575       121.653,55.673       115.571,50.277       108.207,46.829       108.596,31.834       108.986,16.839       109.375,1.844       109.764,-13.151       110.154,-28.146       110.543,-43.141       110.933,-58.135       111.322,-73.130       111.712,-88.125       114.402,-107.319     \"/>\n",
       "    <g id=\"pairs\">\n",
       "      <line class=\"basepairs\" id=\"1,119\" x1=\"96.71656\" y1=\"-88.51477\" x2=\"111.71151\" y2=\"-88.12537\"/>\n",
       "      <line class=\"basepairs\" id=\"2,118\" x1=\"96.32716\" y1=\"-73.51984\" x2=\"111.32210\" y2=\"-73.13043\"/>\n",
       "      <line class=\"basepairs\" id=\"3,117\" x1=\"95.93774\" y1=\"-58.52489\" x2=\"110.93269\" y2=\"-58.13548\"/>\n",
       "      <line class=\"basepairs\" id=\"4,116\" x1=\"95.54833\" y1=\"-43.52995\" x2=\"110.54328\" y2=\"-43.14053\"/>\n",
       "      <line class=\"basepairs\" id=\"5,115\" x1=\"95.15892\" y1=\"-28.53500\" x2=\"110.15387\" y2=\"-28.14560\"/>\n",
       "      <line class=\"basepairs\" id=\"6,114\" x1=\"94.76952\" y1=\"-13.54005\" x2=\"109.76446\" y2=\"-13.15065\"/>\n",
       "      <line class=\"basepairs\" id=\"7,113\" x1=\"94.38010\" y1=\"1.45488\" x2=\"109.37505\" y2=\"1.84430\"/>\n",
       "      <line class=\"basepairs\" id=\"8,112\" x1=\"93.99069\" y1=\"16.44983\" x2=\"108.98564\" y2=\"16.83923\"/>\n",
       "      <line class=\"basepairs\" id=\"9,111\" x1=\"93.60129\" y1=\"31.44478\" x2=\"108.59623\" y2=\"31.83418\"/>\n",
       "      <line class=\"basepairs\" id=\"10,110\" x1=\"93.21188\" y1=\"46.43972\" x2=\"108.20682\" y2=\"46.82913\"/>\n",
       "      <line class=\"basepairs\" id=\"16,68\" x1=\"73.30888\" y1=\"83.45859\" x2=\"81.90366\" y2=\"95.75208\"/>\n",
       "      <line class=\"basepairs\" id=\"17,67\" x1=\"61.01539\" y1=\"92.05338\" x2=\"69.61018\" y2=\"104.34686\"/>\n",
       "      <line class=\"basepairs\" id=\"18,65\" x1=\"48.61137\" y1=\"100.48785\" x2=\"56.88411\" y2=\"113.00031\"/>\n",
       "      <line class=\"basepairs\" id=\"19,64\" x1=\"36.09891\" y1=\"108.76058\" x2=\"44.37165\" y2=\"121.27305\"/>\n",
       "      <line class=\"basepairs\" id=\"20,63\" x1=\"23.58644\" y1=\"117.03333\" x2=\"31.85918\" y2=\"129.54579\"/>\n",
       "      <line class=\"basepairs\" id=\"21,62\" x1=\"11.07398\" y1=\"125.30606\" x2=\"19.34671\" y2=\"137.81853\"/>\n",
       "      <line class=\"basepairs\" id=\"22,61\" x1=\"-1.43849\" y1=\"133.57880\" x2=\"6.83425\" y2=\"146.09126\"/>\n",
       "      <line class=\"basepairs\" id=\"23,60\" x1=\"-13.95096\" y1=\"141.85153\" x2=\"-5.67822\" y2=\"154.36401\"/>\n",
       "      <line class=\"basepairs\" id=\"28,56\" x1=\"-56.26562\" y1=\"170.60730\" x2=\"-47.67084\" y2=\"182.90077\"/>\n",
       "      <line class=\"basepairs\" id=\"29,55\" x1=\"-68.55910\" y1=\"179.20207\" x2=\"-59.96432\" y2=\"191.49556\"/>\n",
       "      <line class=\"basepairs\" id=\"30,54\" x1=\"-80.85258\" y1=\"187.79686\" x2=\"-72.25780\" y2=\"200.09035\"/>\n",
       "      <line class=\"basepairs\" id=\"31,51\" x1=\"-93.36505\" y1=\"196.06960\" x2=\"-85.41993\" y2=\"208.79262\"/>\n",
       "      <line class=\"basepairs\" id=\"32,50\" x1=\"-106.08807\" y1=\"204.01472\" x2=\"-98.14294\" y2=\"216.73773\"/>\n",
       "      <line class=\"basepairs\" id=\"33,49\" x1=\"-118.81108\" y1=\"211.95984\" x2=\"-110.86596\" y2=\"224.68286\"/>\n",
       "      <line class=\"basepairs\" id=\"34,48\" x1=\"-131.53409\" y1=\"219.90495\" x2=\"-123.58897\" y2=\"232.62798\"/>\n",
       "      <line class=\"basepairs\" id=\"70,106\" x1=\"125.97843\" y1=\"85.26138\" x2=\"128.11316\" y2=\"70.41406\"/>\n",
       "      <line class=\"basepairs\" id=\"71,105\" x1=\"140.82576\" y1=\"87.39611\" x2=\"142.96048\" y2=\"72.54879\"/>\n",
       "      <line class=\"basepairs\" id=\"73,103\" x1=\"167.08319\" y1=\"91.17136\" x2=\"169.21791\" y2=\"76.32404\"/>\n",
       "      <line class=\"basepairs\" id=\"74,102\" x1=\"181.93051\" y1=\"93.30608\" x2=\"184.06523\" y2=\"78.45876\"/>\n",
       "      <line class=\"basepairs\" id=\"79,97\" x1=\"237.65410\" y1=\"101.31792\" x2=\"239.78882\" y2=\"86.47060\"/>\n",
       "      <line class=\"basepairs\" id=\"80,96\" x1=\"252.50142\" y1=\"103.45264\" x2=\"254.63614\" y2=\"88.60532\"/>\n",
       "      <line class=\"basepairs\" id=\"81,95\" x1=\"267.34875\" y1=\"105.58736\" x2=\"269.48346\" y2=\"90.74004\"/>\n",
       "      <line class=\"basepairs\" id=\"82,94\" x1=\"282.19608\" y1=\"107.72209\" x2=\"284.33078\" y2=\"92.87477\"/>\n",
       "      <line class=\"basepairs\" id=\"83,93\" x1=\"297.04340\" y1=\"109.85681\" x2=\"299.17810\" y2=\"95.00949\"/>\n",
       "      <line class=\"basepairs\" id=\"84,92\" x1=\"311.89072\" y1=\"111.99153\" x2=\"314.02542\" y2=\"97.14421\"/>\n",
       "      <line class=\"basepairs\" id=\"85,91\" x1=\"326.73804\" y1=\"114.12626\" x2=\"328.87274\" y2=\"99.27894\"/>\n",
       "      <line class=\"basepairs\" id=\"86,90\" x1=\"341.58536\" y1=\"116.26099\" x2=\"343.72006\" y2=\"101.41366\"/>\n",
       "    </g>\n",
       "    <g transform=\"translate(-4.6, 4)\" id=\"seq\">\n",
       "      <text class=\"nucleotide\" x=\"96.717\" y=\"-88.515\"> </text>\n",
       "      <text class=\"nucleotide\" x=\"96.327\" y=\"-73.520\"> </text>\n",
       "      <text class=\"nucleotide\" x=\"95.938\" y=\"-58.525\"> </text>\n",
       "      <text class=\"nucleotide\" x=\"95.548\" y=\"-43.530\"> </text>\n",
       "      <text class=\"nucleotide\" x=\"95.159\" y=\"-28.535\"> </text>\n",
       "      <text class=\"nucleotide\" x=\"94.770\" y=\"-13.540\"> </text>\n",
       "      <text class=\"nucleotide\" x=\"94.380\" y=\"1.455\"> </text>\n",
       "      <text class=\"nucleotide\" x=\"93.991\" y=\"16.450\"> </text>\n",
       "      <text class=\"nucleotide\" x=\"93.601\" y=\"31.445\"> </text>\n",
       "      <text class=\"nucleotide\" x=\"93.212\" y=\"46.440\"> </text>\n",
       "      <text class=\"nucleotide\" x=\"85.910\" y=\"49.366\"> </text>\n",
       "      <text class=\"nucleotide\" x=\"79.694\" y=\"54.187\"> </text>\n",
       "      <text class=\"nucleotide\" x=\"75.044\" y=\"60.532\"> </text>\n",
       "      <text class=\"nucleotide\" x=\"72.317\" y=\"67.910\"> </text>\n",
       "      <text class=\"nucleotide\" x=\"71.723\" y=\"75.754\"> </text>\n",
       "      <text class=\"nucleotide\" x=\"73.309\" y=\"83.459\"> </text>\n",
       "      <text class=\"nucleotide\" x=\"61.015\" y=\"92.053\"> </text>\n",
       "      <text class=\"nucleotide\" x=\"48.611\" y=\"100.488\"> </text>\n",
       "      <text class=\"nucleotide\" x=\"36.099\" y=\"108.761\"> </text>\n",
       "      <text class=\"nucleotide\" x=\"23.586\" y=\"117.033\"> </text>\n",
       "      <text class=\"nucleotide\" x=\"11.074\" y=\"125.306\"> </text>\n",
       "      <text class=\"nucleotide\" x=\"-1.438\" y=\"133.579\"> </text>\n",
       "      <text class=\"nucleotide\" x=\"-13.951\" y=\"141.852\"> </text>\n",
       "      <text class=\"nucleotide\" x=\"-26.531\" y=\"136.053\"> </text>\n",
       "      <text class=\"nucleotide\" x=\"-40.222\" y=\"137.250\"> </text>\n",
       "      <text class=\"nucleotide\" x=\"-51.427\" y=\"145.020\"> </text>\n",
       "      <text class=\"nucleotide\" x=\"-57.254\" y=\"157.226\"> </text>\n",
       "      <text class=\"nucleotide\" x=\"-56.266\" y=\"170.607\"> </text>\n",
       "      <text class=\"nucleotide\" x=\"-68.559\" y=\"179.202\"> </text>\n",
       "      <text class=\"nucleotide\" x=\"-80.853\" y=\"187.797\"> </text>\n",
       "      <text class=\"nucleotide\" x=\"-93.365\" y=\"196.070\"> </text>\n",
       "      <text class=\"nucleotide\" x=\"-106.088\" y=\"204.015\"> </text>\n",
       "      <text class=\"nucleotide\" x=\"-118.811\" y=\"211.960\"> </text>\n",
       "      <text class=\"nucleotide\" x=\"-131.534\" y=\"219.905\"> </text>\n",
       "      <text class=\"nucleotide\" x=\"-144.133\" y=\"211.350\"> </text>\n",
       "      <text class=\"nucleotide\" x=\"-159.124\" y=\"208.667\"> </text>\n",
       "      <text class=\"nucleotide\" x=\"-173.909\" y=\"212.318\"> </text>\n",
       "      <text class=\"nucleotide\" x=\"-185.926\" y=\"221.673\"> </text>\n",
       "      <text class=\"nucleotide\" x=\"-193.093\" y=\"235.109\"> </text>\n",
       "      <text class=\"nucleotide\" x=\"-194.170\" y=\"250.300\"> </text>\n",
       "      <text class=\"nucleotide\" x=\"-188.968\" y=\"264.613\"> </text>\n",
       "      <text class=\"nucleotide\" x=\"-178.390\" y=\"275.569\"> </text>\n",
       "      <text class=\"nucleotide\" x=\"-164.268\" y=\"281.269\"> </text>\n",
       "      <text class=\"nucleotide\" x=\"-149.049\" y=\"280.725\"> </text>\n",
       "      <text class=\"nucleotide\" x=\"-135.370\" y=\"274.033\"> </text>\n",
       "      <text class=\"nucleotide\" x=\"-125.600\" y=\"262.351\"> </text>\n",
       "      <text class=\"nucleotide\" x=\"-121.432\" y=\"247.703\"> </text>\n",
       "      <text class=\"nucleotide\" x=\"-123.589\" y=\"232.628\"> </text>\n",
       "      <text class=\"nucleotide\" x=\"-110.866\" y=\"224.683\"> </text>\n",
       "      <text class=\"nucleotide\" x=\"-98.143\" y=\"216.738\"> </text>\n",
       "      <text class=\"nucleotide\" x=\"-85.420\" y=\"208.793\"> </text>\n",
       "      <text class=\"nucleotide\" x=\"-80.538\" y=\"209.012\"> </text>\n",
       "      <text class=\"nucleotide\" x=\"-75.490\" y=\"206.082\"> </text>\n",
       "      <text class=\"nucleotide\" x=\"-72.258\" y=\"200.090\"> </text>\n",
       "      <text class=\"nucleotide\" x=\"-59.964\" y=\"191.496\"> </text>\n",
       "      <text class=\"nucleotide\" x=\"-47.671\" y=\"182.901\"> </text>\n",
       "      <text class=\"nucleotide\" x=\"-32.394\" y=\"188.755\"> </text>\n",
       "      <text class=\"nucleotide\" x=\"-16.467\" y=\"184.348\"> </text>\n",
       "      <text class=\"nucleotide\" x=\"-6.168\" y=\"171.213\"> </text>\n",
       "      <text class=\"nucleotide\" x=\"-5.678\" y=\"154.364\"> </text>\n",
       "      <text class=\"nucleotide\" x=\"6.834\" y=\"146.091\"> </text>\n",
       "      <text class=\"nucleotide\" x=\"19.347\" y=\"137.819\"> </text>\n",
       "      <text class=\"nucleotide\" x=\"31.859\" y=\"129.546\"> </text>\n",
       "      <text class=\"nucleotide\" x=\"44.372\" y=\"121.273\"> </text>\n",
       "      <text class=\"nucleotide\" x=\"56.884\" y=\"113.000\"> </text>\n",
       "      <text class=\"nucleotide\" x=\"64.288\" y=\"111.923\"> </text>\n",
       "      <text class=\"nucleotide\" x=\"69.610\" y=\"104.347\"> </text>\n",
       "      <text class=\"nucleotide\" x=\"81.904\" y=\"95.752\"> </text>\n",
       "      <text class=\"nucleotide\" x=\"106.561\" y=\"101.514\"> </text>\n",
       "      <text class=\"nucleotide\" x=\"125.978\" y=\"85.261\"> </text>\n",
       "      <text class=\"nucleotide\" x=\"140.826\" y=\"87.396\"> </text>\n",
       "      <text class=\"nucleotide\" x=\"153.384\" y=\"97.019\"> </text>\n",
       "      <text class=\"nucleotide\" x=\"167.083\" y=\"91.171\"> </text>\n",
       "      <text class=\"nucleotide\" x=\"181.931\" y=\"93.306\"> </text>\n",
       "      <text class=\"nucleotide\" x=\"187.710\" y=\"107.467\"> </text>\n",
       "      <text class=\"nucleotide\" x=\"199.723\" y=\"116.773\"> </text>\n",
       "      <text class=\"nucleotide\" x=\"214.681\" y=\"118.802\"> </text>\n",
       "      <text class=\"nucleotide\" x=\"228.554\" y=\"113.110\"> </text>\n",
       "      <text class=\"nucleotide\" x=\"237.654\" y=\"101.318\"> </text>\n",
       "      <text class=\"nucleotide\" x=\"252.501\" y=\"103.453\"> </text>\n",
       "      <text class=\"nucleotide\" x=\"267.349\" y=\"105.587\"> </text>\n",
       "      <text class=\"nucleotide\" x=\"282.196\" y=\"107.722\"> </text>\n",
       "      <text class=\"nucleotide\" x=\"297.043\" y=\"109.857\"> </text>\n",
       "      <text class=\"nucleotide\" x=\"311.891\" y=\"111.992\"> </text>\n",
       "      <text class=\"nucleotide\" x=\"326.738\" y=\"114.126\"> </text>\n",
       "      <text class=\"nucleotide\" x=\"341.585\" y=\"116.261\"> </text>\n",
       "      <text class=\"nucleotide\" x=\"356.403\" y=\"124.500\"> </text>\n",
       "      <text class=\"nucleotide\" x=\"368.422\" y=\"112.542\"> </text>\n",
       "      <text class=\"nucleotide\" x=\"360.258\" y=\"97.683\"> </text>\n",
       "      <text class=\"nucleotide\" x=\"343.720\" y=\"101.414\"> </text>\n",
       "      <text class=\"nucleotide\" x=\"328.873\" y=\"99.279\"> </text>\n",
       "      <text class=\"nucleotide\" x=\"314.025\" y=\"97.144\"> </text>\n",
       "      <text class=\"nucleotide\" x=\"299.178\" y=\"95.009\"> </text>\n",
       "      <text class=\"nucleotide\" x=\"284.331\" y=\"92.875\"> </text>\n",
       "      <text class=\"nucleotide\" x=\"269.483\" y=\"90.740\"> </text>\n",
       "      <text class=\"nucleotide\" x=\"254.636\" y=\"88.605\"> </text>\n",
       "      <text class=\"nucleotide\" x=\"239.789\" y=\"86.471\"> </text>\n",
       "      <text class=\"nucleotide\" x=\"234.380\" y=\"72.592\"> </text>\n",
       "      <text class=\"nucleotide\" x=\"222.673\" y=\"63.222\"> </text>\n",
       "      <text class=\"nucleotide\" x=\"207.748\" y=\"60.956\"> </text>\n",
       "      <text class=\"nucleotide\" x=\"193.601\" y=\"66.500\"> </text>\n",
       "      <text class=\"nucleotide\" x=\"184.065\" y=\"78.459\"> </text>\n",
       "      <text class=\"nucleotide\" x=\"169.218\" y=\"76.324\"> </text>\n",
       "      <text class=\"nucleotide\" x=\"157.721\" y=\"66.854\"> </text>\n",
       "      <text class=\"nucleotide\" x=\"142.960\" y=\"72.549\"> </text>\n",
       "      <text class=\"nucleotide\" x=\"128.113\" y=\"70.414\"> </text>\n",
       "      <text class=\"nucleotide\" x=\"125.952\" y=\"62.575\"> </text>\n",
       "      <text class=\"nucleotide\" x=\"121.653\" y=\"55.673\"> </text>\n",
       "      <text class=\"nucleotide\" x=\"115.571\" y=\"50.277\"> </text>\n",
       "      <text class=\"nucleotide\" x=\"108.207\" y=\"46.829\"> </text>\n",
       "      <text class=\"nucleotide\" x=\"108.596\" y=\"31.834\"> </text>\n",
       "      <text class=\"nucleotide\" x=\"108.986\" y=\"16.839\"> </text>\n",
       "      <text class=\"nucleotide\" x=\"109.375\" y=\"1.844\"> </text>\n",
       "      <text class=\"nucleotide\" x=\"109.764\" y=\"-13.151\"> </text>\n",
       "      <text class=\"nucleotide\" x=\"110.154\" y=\"-28.146\"> </text>\n",
       "      <text class=\"nucleotide\" x=\"110.543\" y=\"-43.141\"> </text>\n",
       "      <text class=\"nucleotide\" x=\"110.933\" y=\"-58.135\"> </text>\n",
       "      <text class=\"nucleotide\" x=\"111.322\" y=\"-73.130\"> </text>\n",
       "      <text class=\"nucleotide\" x=\"111.712\" y=\"-88.125\"> </text>\n",
       "      <text class=\"nucleotide\" x=\"114.402\" y=\"-107.319\"> </text>\n",
       "    </g>\n",
       "  </g>\n",
       "</svg>"
      ],
      "text/plain": [
       "<IPython.core.display.SVG object>"
      ]
     },
     "metadata": {},
     "output_type": "display_data"
    }
   ],
   "source": [
    "with open(reference_file) as f:\n",
    "    next(f)\n",
    "    next(f)\n",
    "    reference_ss = next(f).strip()\n",
    "    \n",
    "def plot_structure(ss, path, show_ref=True, label=''):\n",
    "    print(focal_seq)\n",
    "    print(ss)\n",
    "    RNA.svg_rna_plot(' '*len(ss), ss, path)\n",
    "    if show_ref:\n",
    "        context = \"<table><tr><td><img src='{}'></td><td><img src='{}'></td></tr><tr><td style='text-align: center;'>Reference</td><td style='text-align: center;'>{}</td></tr></table>\"\n",
    "        display(HTML(context.format('test/images/reference.svg', path, label))) \n",
    "    else:\n",
    "        display(SVG(path))\n",
    "        \n",
    "print(\"# Reference structure:\")\n",
    "plot_structure(reference_ss, 'test/images/reference.svg', show_ref=False)"
   ]
  },
  {
   "cell_type": "markdown",
   "id": "b16fa680",
   "metadata": {
    "tags": []
   },
   "source": [
    "__MFE structure without constraint__\n",
    "\n",
    "As shown below, the predicted MFE structure using _RNAfold_ is quite distinct to the reference one."
   ]
  },
  {
   "cell_type": "code",
   "execution_count": 5,
   "id": "54cc66f1",
   "metadata": {
    "tags": []
   },
   "outputs": [
    {
     "name": "stdout",
     "output_type": "stream",
     "text": [
      "UGCCUGGCGGCCGUAGCGCGGUGGUCCCACCUGACCCCAUGCCGAACUCAGAAGUGAAACGCCGUAGCGCCGAUGGUAGUGUGGGGUCUCCCCAUGCGAGAGUAGGGAACUGCCAGGCAU\n",
      "((((((((((((((...)))).(((...))).((((((((((...((.((...(((..((...))..)))...)))).))))))))))..(((.(((....))))))..)))))))))).\n"
     ]
    },
    {
     "data": {
      "text/html": [
       "<table><tr><td><img src='test/images/reference.svg'></td><td><img src='test/images/seq.svg'></td></tr><tr><td style='text-align: center;'>Reference</td><td style='text-align: center;'>Unconstrained MFE</td></tr></table>"
      ],
      "text/plain": [
       "<IPython.core.display.HTML object>"
      ]
     },
     "metadata": {},
     "output_type": "display_data"
    }
   ],
   "source": [
    "mfe_ss, _ = RNA.fold(focal_seq)\n",
    "plot_structure(mfe_ss, 'test/images/seq.svg', label='Unconstrained MFE')"
   ]
  },
  {
   "cell_type": "markdown",
   "id": "7216a7b1",
   "metadata": {
    "tags": []
   },
   "source": [
    "# Consensus structure from RNAalifold\n",
    "\n",
    "One way to improve the prediction is integrating the phylogenetic information from the alignment.\n",
    "First, we compute the consensus structure and the base pair probability matrix using _RNAalifold_.\n",
    "Then, adding such information in the prediction using hard or soft constraints."
   ]
  },
  {
   "cell_type": "code",
   "execution_count": 6,
   "id": "da0b6ea4",
   "metadata": {
    "tags": []
   },
   "outputs": [
    {
     "name": "stdout",
     "output_type": "stream",
     "text": [
      "..((((((((.(....(((((.(.((.........((((.............))).).........))))))..)).(..((.((........(((((..((....)).)))))......))..)).)..).))))))))... -40.65581512451172\n"
     ]
    }
   ],
   "source": [
    "fc_ali = RNA.fold_compound(alignment)\n",
    "\n",
    "css, cen = fc_ali.mfe()\n",
    "print(css, cen)\n",
    "\n",
    "fc_ali.exp_params_rescale(cen)\n",
    "fc_ali.pf()\n",
    "bpp = np.array(fc_ali.bpp())"
   ]
  },
  {
   "cell_type": "markdown",
   "id": "4852571f",
   "metadata": {
    "tags": []
   },
   "source": [
    "## Hard constraints\n",
    "__\"Cleaning up\" the consensus structure - removing non-canonical base pairs, gap positions__\n",
    "The `refold` function allow to extract the projection of the _RNAalifold_ consensus structure for each sequence in the alignment and clear the structure by removing base pairs that are mapped to gaps in the alignment and base pairs that do not satisfy the minimum loop length condition (default=3). A threshold can be given to keep only base pairs with probability > threshold. "
   ]
  },
  {
   "cell_type": "code",
   "execution_count": 7,
   "id": "cb297051-a91c-461b-937d-9fcf1a2b38d6",
   "metadata": {},
   "outputs": [],
   "source": [
    "def refold(sequence, css, bpp, threshold=None, turn=3):\n",
    "    pair = ['AU', 'UA', 'GC', 'CG', 'GU', 'UG']\n",
    "    cons_ss_cleaned = []\n",
    "    \n",
    "    pt = RNA.ptable_pk(css)\n",
    "    seq = 'x'+sequence\n",
    "    if threshold is not None:\n",
    "        cons = list('x' + '.'*len(css))\n",
    "        for p in pt:\n",
    "            if p>pt[p]:\n",
    "                continue\n",
    "            if bpp[p][pt[p]] >= threshold:\n",
    "                cons[p] = '('\n",
    "                cons[pt[p]] = ')'\n",
    "    else:\n",
    "        cons = ['x']+list(css) # consensus structure by alifold\n",
    "        \n",
    "    # remove non-compatible pairs as well as pairs to a gap position in the sequence\n",
    "    for p in range(1, len(seq)):\n",
    "        c = seq[p]\n",
    "        if c == '-':\n",
    "            cons[p] = 'x'\n",
    "            if pt[p]>0 and cons[pt[p]] != 'x':\n",
    "                cons[pt[p]] = '.'\n",
    "        elif pt[p] > p and c+seq[pt[p]] not in pair:\n",
    "            cons[p] = cons[pt[p]] = '.'\n",
    "    \n",
    "    # remove all hairpins with length < turn\n",
    "    s_cons = ''.join(cons).replace('x', '')\n",
    "    pt = RNA.ptable_pk(s_cons)\n",
    "    s_cons = list('x'+s_cons)\n",
    "    for p in range(1, len(pt)):\n",
    "        if p > pt[p]:\n",
    "            continue\n",
    "        if pt[p] - p-1 < turn:\n",
    "            s_cons[p] =  s_cons[pt[p]] = '.'\n",
    "\n",
    "    ss = ''.join(s_cons).replace('x', '')\n",
    "    \n",
    "    return ss"
   ]
  },
  {
   "cell_type": "markdown",
   "id": "9359828d",
   "metadata": {},
   "source": [
    "__Consensus structure projection__ captures the main structure shape, but contains unwanted unpaired regions"
   ]
  },
  {
   "cell_type": "code",
   "execution_count": 8,
   "id": "3682c210-fa59-4c13-9da2-cc33b7bb4dda",
   "metadata": {},
   "outputs": [
    {
     "name": "stdout",
     "output_type": "stream",
     "text": [
      "UGCCUGGCGGCCGUAGCGCGGUGGUCCCACCUGACCCCAUGCCGAACUCAGAAGUGAAACGCCGUAGCGCCGAUGGUAGUGUGGGGUCUCCCCAUGCGAGAGUAGGGAACUGCCAGGCAU\n",
      "...(((((((.....((((((((.......((((.............))))........)))))).)).((.......(((((((....)).))))).......))...)))))))....\n"
     ]
    },
    {
     "data": {
      "text/html": [
       "<table><tr><td><img src='test/images/reference.svg'></td><td><img src='test/images/first_seq_struc_1_clean.svg'></td></tr><tr><td style='text-align: center;'>Reference</td><td style='text-align: center;'>Consensus structure projection</td></tr></table>"
      ],
      "text/plain": [
       "<IPython.core.display.HTML object>"
      ]
     },
     "metadata": {},
     "output_type": "display_data"
    }
   ],
   "source": [
    "threshold = 0.95\n",
    "turn = 3\n",
    "\n",
    "ss_clean = refold(focal_seq_aligned, css, bpp, threshold, turn)\n",
    "plot_structure(ss_clean, 'test/images/first_seq_struc_1_clean.svg', label='Consensus structure projection')"
   ]
  },
  {
   "cell_type": "markdown",
   "id": "d1e70534",
   "metadata": {},
   "source": [
    "__Applying consensus structure as hard constraints__ gives a prediction that is almost as same as the reference except for an extra bulges and a hairpin"
   ]
  },
  {
   "cell_type": "code",
   "execution_count": 9,
   "id": "d6b9b70d-4e56-4cdd-8332-e1e2dfee16bc",
   "metadata": {
    "pycharm": {
     "is_executing": true
    }
   },
   "outputs": [
    {
     "name": "stdout",
     "output_type": "stream",
     "text": [
      "# Hard constraints applied:\n",
      "UGCCUGGCGGCCGUAGCGCGGUGGUCCCACCUGACCCCAUGCCGAACUCAGAAGUGAAACGCCGUAGCGCCGAUGGUAGUGUGGGGUCUCCCCAUGCGAGAGUAGGGAACUGCCAGGCAU\n",
      "((((((((((.....((((((((....(((((((.............))))..)))...)))))).)).((.((....(((((((....)).)))))....)).))...)))))))))).\n"
     ]
    },
    {
     "data": {
      "text/html": [
       "<table><tr><td><img src='test/images/reference.svg'></td><td><img src='test/images/first_seq_HC.svg'></td></tr><tr><td style='text-align: center;'>Reference</td><td style='text-align: center;'>MFE with hard constraints</td></tr></table>"
      ],
      "text/plain": [
       "<IPython.core.display.HTML object>"
      ]
     },
     "metadata": {},
     "output_type": "display_data"
    }
   ],
   "source": [
    "fc = RNA.fold_compound(focal_seq)\n",
    "    \n",
    "# Apply hard constraint from RNAalifold to the sequence\n",
    "# fc.hc_add_from_db(ss_clean, RNA.CONSTRAINT_CONTEXT_ALL_LOOPS | RNA.CONSTRAINT_CONTEXT_ENFORCE)\n",
    "fc.hc_add_from_db(ss_clean, RNA.CONSTRAINT_DB_DEFAULT | RNA.CONSTRAINT_DB_ENFORCE_BP)\n",
    "ss_hc , _ = fc.mfe()\n",
    "\n",
    "print('# Hard constraints applied:')\n",
    "plot_structure(ss_hc, 'test/images/first_seq_HC.svg', label='MFE with hard constraints')"
   ]
  },
  {
   "cell_type": "markdown",
   "id": "cced2d2a-1e07-4d33-9d8a-c09c54bd4e49",
   "metadata": {
    "tags": []
   },
   "source": [
    "## Soft constraints (pseudo-energies) with softconsensus"
   ]
  },
  {
   "cell_type": "markdown",
   "id": "c6bfc4d9",
   "metadata": {},
   "source": [
    "Here, we illustrate how to use _softconsensus_ to predict secondary structure of desired sequence.\n",
    "The class object `Alignment` takes an alignment as input and compute the pseudo-energies behind the scene.\n",
    "One can also use `Alignment.from_file(path_to_alignment)` to load the alignment from file.\n",
    "Both ways have a facultative argument `md` where one can pass `RNA.md()` object to adjust the viennaRNA folding model.\n",
    "\n",
    "The `Alignment` object provides an object function `fc_of_aligned_seq` to create the fold_compound for given aligned sequence that we want to fold.\n",
    "The returned fold_compound object includes the pseudo-energies from the alignment via soft constraint.\n",
    "Setting the second argument of `fc_of_aligned_seq` to `False` adds the soft constraint on consensus base pairs while the paired position is constrained if the argument is set to `True`."
   ]
  },
  {
   "cell_type": "code",
   "execution_count": 10,
   "id": "1f02d437-db8f-467c-b24e-9e239792b40c",
   "metadata": {},
   "outputs": [
    {
     "name": "stdout",
     "output_type": "stream",
     "text": [
      "# Soft constraints applied:\n",
      "UGCCUGGCGGCCGUAGCGCGGUGGUCCCACCUGACCCCAUGCCGAACUCAGAAGUGAAACGCCGUAGCGCCGAUGGUAGUGUGGGGUCUCCCCAUGCGAGAGUAGGGAACUGCCAGGCAU\n",
      "((((((((((.....((((((((....(((((((.............))))..)))...)))))).)).((.((....((((((((...))))))))....)).))...)))))))))). on base pair\n",
      "((((((((((((((.((((((((....(((((((.............))))..)))...)))))).))))(.((....((((((((...))))))))....)).)))..)))))))))). on paired position\n"
     ]
    }
   ],
   "source": [
    "# Create Alignment object\n",
    "align = Alignment(alignment)\n",
    "\n",
    "\n",
    "# Use base pair probability\n",
    "fc = align.fc_of_aligned_seq(focal_seq_aligned, False)\n",
    "structure_bp, _ = fc.mfe()\n",
    "\n",
    "# Use paired probability of each position\n",
    "fc_p = align.fc_of_aligned_seq(focal_seq_aligned, True)\n",
    "structure_p, _ = fc_p.mfe()\n",
    "\n",
    "print('# Soft constraints applied:')\n",
    "print(focal_seq)\n",
    "print(structure_bp, \"on base pair\")\n",
    "print(structure_p, \"on paired position\")"
   ]
  },
  {
   "cell_type": "markdown",
   "id": "5aec5543",
   "metadata": {},
   "source": [
    "The prediction using __base pair probabilities__ as soft constraint is same as the reference"
   ]
  },
  {
   "cell_type": "code",
   "execution_count": 11,
   "id": "ce06e17b-f023-4eb1-98ec-51b100a5c02a",
   "metadata": {
    "scrolled": false
   },
   "outputs": [
    {
     "name": "stdout",
     "output_type": "stream",
     "text": [
      "UGCCUGGCGGCCGUAGCGCGGUGGUCCCACCUGACCCCAUGCCGAACUCAGAAGUGAAACGCCGUAGCGCCGAUGGUAGUGUGGGGUCUCCCCAUGCGAGAGUAGGGAACUGCCAGGCAU\n",
      "((((((((((.....((((((((....(((((((.............))))..)))...)))))).)).((.((....((((((((...))))))))....)).))...)))))))))).\n"
     ]
    },
    {
     "data": {
      "text/html": [
       "<table><tr><td><img src='test/images/reference.svg'></td><td><img src='test/images/seq_pseudo_e.svg'></td></tr><tr><td style='text-align: center;'>Reference</td><td style='text-align: center;'>MFE with soft constraints on base pairs</td></tr></table>"
      ],
      "text/plain": [
       "<IPython.core.display.HTML object>"
      ]
     },
     "metadata": {},
     "output_type": "display_data"
    }
   ],
   "source": [
    "plot_structure(structure_bp, 'test/images/seq_pseudo_e.svg', label='MFE with soft constraints on base pairs')"
   ]
  },
  {
   "cell_type": "markdown",
   "id": "3196ff9f",
   "metadata": {},
   "source": [
    "While using the parobability information on each single position affects on the multiloop in the middle"
   ]
  },
  {
   "cell_type": "code",
   "execution_count": 12,
   "id": "38063550-f51e-4e88-b732-c317a3702a5f",
   "metadata": {
    "scrolled": false
   },
   "outputs": [
    {
     "name": "stdout",
     "output_type": "stream",
     "text": [
      "UGCCUGGCGGCCGUAGCGCGGUGGUCCCACCUGACCCCAUGCCGAACUCAGAAGUGAAACGCCGUAGCGCCGAUGGUAGUGUGGGGUCUCCCCAUGCGAGAGUAGGGAACUGCCAGGCAU\n",
      "((((((((((((((.((((((((....(((((((.............))))..)))...)))))).))))(.((....((((((((...))))))))....)).)))..)))))))))).\n"
     ]
    },
    {
     "data": {
      "text/html": [
       "<table><tr><td><img src='test/images/reference.svg'></td><td><img src='test/images/seq_pseudo_e_p.svg'></td></tr><tr><td style='text-align: center;'>Reference</td><td style='text-align: center;'>MFE with soft constraints on paired positions</td></tr></table>"
      ],
      "text/plain": [
       "<IPython.core.display.HTML object>"
      ]
     },
     "metadata": {},
     "output_type": "display_data"
    }
   ],
   "source": [
    "plot_structure(structure_p, 'test/images/seq_pseudo_e_p.svg', label='MFE with soft constraints on paired positions')"
   ]
  },
  {
   "cell_type": "markdown",
   "id": "77072ad9",
   "metadata": {
    "tags": []
   },
   "source": [
    "## evaluate predictions"
   ]
  },
  {
   "cell_type": "code",
   "execution_count": 13,
   "id": "57d352b0",
   "metadata": {},
   "outputs": [
    {
     "name": "stdout",
     "output_type": "stream",
     "text": [
      "prediction           MCC     F-val       PPV    Sensitivity\n",
      "--------------  --------  --------  --------  -------------\n",
      "mfe             0.249533  0.254183  0.238095        0.27027\n",
      "soft-consensus  1         1         1               1\n",
      "\n",
      "\n",
      "prediction           MCC     F-val       PPV    Sensitivity\n",
      "--------------  --------  --------  --------  -------------\n",
      "mfe             0.249533  0.254183  0.238095       0.27027\n",
      "hard-consensus  0.931243  0.931682  0.944444       0.918919\n",
      "\n",
      "\n"
     ]
    }
   ],
   "source": [
    "#NOTE: should use RNA.ptable for that\n",
    "reference  = MCC.parse_dot_bracket(reference_ss)\n",
    "mfe_parsed = MCC.parse_dot_bracket(mfe_ss)\n",
    "sc_parsed  = MCC.parse_dot_bracket(structure_bp)\n",
    "hc_parsed  = MCC.parse_dot_bracket(ss_hc)\n",
    "\n",
    "#calc statistics\n",
    "MCC_mfe, F_mfe, PPV_mfe, SEN_mfe = MCC.calc_MCC_F_val(mfe_parsed, reference)\n",
    "MCC_sc, F_sc, PPV_sc, SEN_sc = MCC.calc_MCC_F_val(sc_parsed, reference)\n",
    "MCC_hc, F_hc, PPV_hc, SEN_hc = MCC.calc_MCC_F_val(hc_parsed, reference)\n",
    "\n",
    "\n",
    "#print stats\n",
    "MCC.stats_table(\"mfe\", MCC_mfe, F_mfe, PPV_mfe, SEN_mfe, \"soft-consensus\", MCC_sc, F_sc, PPV_sc, SEN_sc)\n",
    "MCC.stats_table(\"mfe\", MCC_mfe, F_mfe, PPV_mfe, SEN_mfe, \"hard-consensus\", MCC_hc, F_hc, PPV_hc, SEN_hc)"
   ]
  }
 ],
 "metadata": {
  "kernelspec": {
   "display_name": "Python 3 (ipykernel)",
   "language": "python",
   "name": "python3"
  },
  "language_info": {
   "codemirror_mode": {
    "name": "ipython",
    "version": 3
   },
   "file_extension": ".py",
   "mimetype": "text/x-python",
   "name": "python",
   "nbconvert_exporter": "python",
   "pygments_lexer": "ipython3",
   "version": "3.8.13"
  },
  "toc": {
   "base_numbering": 1,
   "nav_menu": {},
   "number_sections": true,
   "sideBar": true,
   "skip_h1_title": false,
   "title_cell": "Table of Contents",
   "title_sidebar": "Contents",
   "toc_cell": true,
   "toc_position": {},
   "toc_section_display": true,
   "toc_window_display": true
  }
 },
 "nbformat": 4,
 "nbformat_minor": 5
}
